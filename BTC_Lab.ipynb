{
  "cells": [
    {
      "cell_type": "markdown",
      "metadata": {
        "id": "view-in-github",
        "colab_type": "text"
      },
      "source": [
        "<a href=\"https://colab.research.google.com/github/KNDickens/JavaIIFinalProject/blob/master/BTC_Lab.ipynb\" target=\"_parent\"><img src=\"https://colab.research.google.com/assets/colab-badge.svg\" alt=\"Open In Colab\"/></a>"
      ]
    },
    {
      "cell_type": "markdown",
      "source": [
        "**Before you start**\n",
        "\n",
        "Make sure you download a copy of this starter file and save a copy that you can access. \n",
        "\n",
        "Otherwise, if you close the tab, you may lose all your work. \n",
        "\n",
        "File > Save a Copy in Drive > Save a Copy with your name \n",
        "Example \"BTC_LabElisaCundiff.ipynb\""
      ],
      "metadata": {
        "id": "VYHJxiC8uNWC"
      },
      "id": "VYHJxiC8uNWC"
    },
    {
      "cell_type": "markdown",
      "source": [
        "#Bitcoin Lab: Making a trading bot with libraries#\n",
        "\n",
        "This lab looks long and scary but most of it is given to you. This lab is more of a fun lab to read through to show you the power of libraries combined with the skills you already have!</br>\n",
        "</br>\n",
        "For this lab, we will be using a library called Pandas which allows users to generate a table-like data structure called a DataFrame (commonly abbreviated as df).We will use the Pandas library to gain access to methods that allow us to import our data into a df so we can carry out powerful operations on the column/row values. We then will utilize a plotting and data visualization library called MatPlotlib to plot data. This library will allow us to take data from our rows and columns of data and visualize them graphically.\n",
        "\n",
        "Matplotlib is a library that has quite confusing and non-intuitive code but since it is so widely used, a simple Google search leads to large blocks of code that can be used and edited to fit your needs."
      ],
      "metadata": {
        "id": "5av6pMZ6J4MF"
      },
      "id": "5av6pMZ6J4MF"
    },
    {
      "cell_type": "markdown",
      "source": [
        "### Part 1\n",
        "\n",
        "The first cell is going to import a few libraries. This is one of the most powerful parts of python. \n",
        "\n",
        "You are able to pull from bundles of code to do amazing things really quickly. \n",
        "\n",
        "Below are the two very popular python libraries we will be utilizing: \n",
        "1. matplotlib\n",
        "2. pandas\n"
      ],
      "metadata": {
        "id": "HFLJ53QrhNq6"
      },
      "id": "HFLJ53QrhNq6"
    },
    {
      "cell_type": "code",
      "execution_count": null,
      "id": "1825808a-43d2-49a4-aec0-8eed12333e21",
      "metadata": {
        "id": "1825808a-43d2-49a4-aec0-8eed12333e21"
      },
      "outputs": [],
      "source": [
        "''' These may seem scary but these are just the libraries that supply the graphing and csv editing functions'''\n",
        "import matplotlib.pyplot as plt \n",
        "from matplotlib.ticker import ScalarFormatter\n",
        "import pandas as pd"
      ]
    },
    {
      "cell_type": "markdown",
      "source": [
        "## Part 2\n",
        "\n",
        "Now we will read the BTC csv into a Pandas dataframe. We will set the index column equal to the Date column so that all of the price data is linked to the date. We then select the columns that we want to use from the csv (Date and Close). The close price is the price of BTC when the market closes at the end of the day.\n",
        "\n",
        "We can then preview the dataframe we made with df.head() to see the first 5 rows."
      ],
      "metadata": {
        "id": "qDUmsWKEKeaN"
      },
      "id": "qDUmsWKEKeaN"
    },
    {
      "cell_type": "code",
      "execution_count": null,
      "id": "f9f507c3-790a-4e4c-9651-31605a8e9e04",
      "metadata": {
        "scrolled": false,
        "id": "f9f507c3-790a-4e4c-9651-31605a8e9e04"
      },
      "outputs": [],
      "source": [
        "df = pd.read_csv(r'https://raw.githubusercontent.com/CSU-CS150B/handouts/main/ExampleCode/BTCUSD_day.csv',index_col = 0, parse_dates = True, usecols = ['Date','Close'])  \n",
        "print(df.head())  # Function that prints the first 5 rows of the dataframe      \n"
      ]
    },
    {
      "cell_type": "markdown",
      "source": [
        "## Part 3\n",
        "\n",
        "### Relative Strength Index - RSI\n",
        "\n",
        "#### What is the Relative Strength Index (RSI)?\n",
        "Is a technical indicator commonly used by traders to assess whether a stock is overbought or oversold. The Relative Strength Index calculates the ratio of upward price movements to downward price movements over a given period of time and then plots that information on a scale from 0 to 100. \n",
        "A stock is generally considered overbought when the RSI indicator reaches 70 or above and oversold when it falls below 30. However, it’s important to note that RSI is just one tool traders can use to make decisions. It should not be exclusively relied on.\n",
        "\n",
        "Nevertheless, the Relative Strength Index can be a helpful indicator for those looking to make informed trading decisions. Here is how we would interrupt RSI in stocks within the stock market today. \n",
        "\n",
        "Over a 14-day period RSI, the upper and bottom technical levels would be the following: \n",
        "\n",
        "If the RSI is equal or greater than 70, that means in theory that the stock is overbought. Also that the upward price trend is potentially set to reverse, which can result in losses in the event the trader does not sell.\n",
        "If the RSI is equal or less than 30, this means the stock is oversold. This results in a potential downward price trend reversal to the upside, which can result in generating profit if the trader buys.\n",
        "\n",
        "https://www.nasdaq.com/articles/what-is-the-relative-strength-index-rsi-in-stocks"
      ],
      "metadata": {
        "id": "8LB5L1xikhgZ"
      },
      "id": "8LB5L1xikhgZ"
    },
    {
      "cell_type": "code",
      "execution_count": null,
      "id": "1a371b34",
      "metadata": {
        "id": "1a371b34"
      },
      "outputs": [],
      "source": [
        "#rsi method\n",
        "def rsi(df, periods):\n",
        "    \n",
        "    #change in cell values\n",
        "    close_delta = df['Close'].diff();\n",
        "    \n",
        "    #removing any exponants\n",
        "    up = close_delta.clip(lower=0);\n",
        "    down = -1 * close_delta.clip(upper=0);\n",
        "    \n",
        "    #exponetial rolling averages used\n",
        "    MA_up = up.ewm(com = periods - 1, adjust=True, min_periods = periods).mean();\n",
        "    MA_down = down.ewm(com = periods - 1, adjust=True, min_periods = periods).mean();\n",
        "        \n",
        "    rsi = MA_up / MA_down;\n",
        "    \n",
        "    rsi = 100 - (100/(1 + rsi));\n",
        "    \n",
        "    return rsi"
      ]
    },
    {
      "cell_type": "markdown",
      "source": [
        "# Task 1:\n",
        "Create a variable called rsi_data and set it equal to the RSI over a 14 day period using the dataframe we created in Part 2.\n",
        "\n",
        "*Hint: Use the RSI function. This should be a single line of code.*"
      ],
      "metadata": {
        "id": "1Uz0pbTQiZei"
      },
      "id": "1Uz0pbTQiZei"
    },
    {
      "cell_type": "code",
      "execution_count": null,
      "id": "4a272e31",
      "metadata": {
        "id": "4a272e31"
      },
      "outputs": [],
      "source": [
        "# create a variable called rsi_data\n",
        "# set that equal to a call to the rsi function \n",
        "# your arguments in your rsi function dhould be the df and the number of days we are searching\n",
        "''' Your code here''' # just one line of code\n",
        "\n"
      ]
    },
    {
      "cell_type": "markdown",
      "source": [
        "## Part 3\n",
        "\n",
        "### Moving Averages\n",
        "\n",
        "A moving average (MA) is a widely used technical indicator that smooths out price trends by filtering out the noise from random short-term price fluctuations. We can utilize the moving averages to identify safer times to buy and sell assets. \n",
        "\n",
        "For this lab, we will consider it a good time to buy when the 20 day moving average price passes above the 50 day moving average price and a good time to sell when the 20 day MA price drops below the 50 day MA price."
      ],
      "metadata": {
        "id": "kEv6TpE7jI6B"
      },
      "id": "kEv6TpE7jI6B"
    },
    {
      "cell_type": "code",
      "execution_count": null,
      "id": "1f87b93a",
      "metadata": {
        "id": "1f87b93a"
      },
      "outputs": [],
      "source": [
        "MA_50 = df['Close'].rolling(window = 50).mean()  # Calculate the 50 day moving average\n",
        "df['MA_50'] = MA_50  # Add the new column to the dataframe\n",
        "MA_20 = df['Close'].rolling(window = 20).mean()  # Calculate the 20 day moving average\n",
        "df['MA_20'] = MA_20  # Add the new column to the dataframe\n",
        "\n",
        "print(df.head(51));  # Print the first 5 rows of the dataframe as a sanity check\n",
        "\n",
        "# Do you notice Not a Number (NaN) values in MA_50 and MA_20?? Why might this be?"
      ]
    },
    {
      "cell_type": "markdown",
      "source": [
        "# Task 2:\n",
        "\n",
        "Notice how the first 50 rows of the MA_50 column are NaN (not a number)? This is because the moving average is calculated using the previous 50 days of data. So the 50 day moving average doesn't exist until we hit the 50th data point. \n",
        "\n",
        "We can drop these rows from the dataframe. Find the Pandas method via Google that drops NA or NaN values from the dataframe and call it on your df.\n",
        "\n",
        "*Hint: try to do this inplace (meaning that the function to drop NANs edits the dataframe inplace). The call to drop NaNs should be one line and be called on your df. Print the first 50 rows of your dataframe using df.head() to make sure your changes took place!*\n",
        "\n",
        "Other note: I had a student once tell me that they realized that 95% of data science was data cleaning, and I said \"yes!\". It can also be lots of fun when you start seeing how many tools you can employ to clean up data for you. This is your first toe-dip!"
      ],
      "metadata": {
        "id": "tV_5JND2lBxG"
      },
      "id": "tV_5JND2lBxG"
    },
    {
      "cell_type": "code",
      "source": [
        "# Drop the NaN rows from the df and then view the first 50 rows of the df using the head() method.\n",
        "\n",
        "''' Your code here'''\n",
        "\n",
        "\n",
        "\n",
        "print(df.head(50))"
      ],
      "metadata": {
        "id": "Ot1J2OlonjuB"
      },
      "id": "Ot1J2OlonjuB",
      "execution_count": null,
      "outputs": []
    },
    {
      "cell_type": "markdown",
      "source": [
        "If you got this to clean your data properly your first few printed lines should now be: \n",
        "  ![Screen Shot 2022-10-20 at 11.29.52 AM.png](data:image/png;base64,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)\n",
        "\n",
        "If you got there, yay!  \n",
        "\n",
        "If you haven't gotten there yet.  Do some more googleing and playing with ideas to see where you can get. \n",
        "\n",
        "The point of this part of the activity is to start feeling comfortable looking things up and trying them out. The faster you get comfortable doing that, the faster you will become a speedy programming maven. \n",
        "\n",
        "So, spend at least 20 minutes trying to figure this out before asking for help. \n",
        "\n",
        "If you spend more than an hour on this and don't get anywhere, then reach out to a UTA and they'll get you on track. "
      ],
      "metadata": {
        "id": "AJNaQ95bcN9y"
      },
      "id": "AJNaQ95bcN9y"
    },
    {
      "cell_type": "markdown",
      "source": [
        "# Part 4\n",
        "## Creating the Buy and Sell Lists\n",
        "\n",
        "We now have the 50 and 20 day moving averages appended to our dataframe so we can now calculate the buy and sell triggers. \n",
        "\n",
        "**Buy Trigger:**\n",
        "\n",
        "Occurs when the 20 day rolling/moving average price passes above the 50 day MA price. We can determine this by looping through our dataframe and seeing if the MA_20 is greater than the MA_50 AND yesterdays (currentIndex - 1) MA_20 price was less than yesterdays MA_50 price.\n",
        "\n",
        "**Sell Trigger:**\n",
        "\n",
        "Occurs when the 20 day rolling/moving average price dips below the 50 day MA price. We can determine this by looping through our dataframe and seeing if the MA_20 is less than the MA_50 AND yesterdays (currentIndex - 1) MA_20 price was greater than yesterdays MA_50 price.\n",
        "\n",
        "Whenever these two things occur, we will then add that row of the dataframe to either the buy or sell list we have created.\n",
        "\n",
        "\n",
        "# Task 3:\n",
        "\n",
        "### Create two empty lists called buy_list and sell_list to store the buy and sell triggers."
      ],
      "metadata": {
        "id": "csGnGUx0oOy1"
      },
      "id": "csGnGUx0oOy1"
    },
    {
      "cell_type": "code",
      "execution_count": null,
      "id": "77476e24",
      "metadata": {
        "id": "77476e24",
        "collapsed": true
      },
      "outputs": [],
      "source": [
        "# A common trading strategy is to buy when the 20 day moving average crosses above the 50 day moving average\n",
        "# and sell when the 20 day moving average crosses below the 50 day moving average\n",
        "\n",
        "''' \n",
        "Create two empty lists called buy_list and sell_list to store the buy and sell triggers.\n",
        "'''\n",
        "\n",
        "'''\n",
        "Your code goes here\n",
        "'''\n",
        "\n"
      ]
    },
    {
      "cell_type": "markdown",
      "source": [
        "In order to access specific rows and columns of our dataframe using the Pandas library we use the method .iloc[] as seen below:\n",
        "\n",
        "> df.MA_20.iloc[ i ]\n",
        "\n",
        "This code will access the value of the MA_20 column in the i'th row of the dataframe df.\n",
        "\n",
        "# Task 4:\n",
        "\n",
        "Using the information provided above and the code given below, complete the elif statement to check if a sell flag has been triggered and if so, append it to sell_list.\n",
        "\n",
        "What we are doing here is verifying if the row at index i in the dataframe df is a buy or a sell we are adding the index (i) to the buy_list or sell_list.\n",
        "\n",
        "*Hint: This is very similar to the code in the if statement. It should be two lines of code but just follow different logic than the buy trigger.*\n",
        "\n",
        "**Note:** You should run your code in the cell above everytime you want to re-test the code below. Re-running your code cell above will reset the buy and sell lists to being empty. Otherwise you will just keep adding to the lists everytime you run the cell below testing your code."
      ],
      "metadata": {
        "id": "7gPNC75qluV-"
      },
      "id": "7gPNC75qluV-"
    },
    {
      "cell_type": "code",
      "source": [
        "''' \n",
        "The want the dates to be oldest to newest for trading though.\n",
        "So let's sort the dataframe from oldest to newest.\n",
        "'''\n",
        "# sort the dataframe by date from oldest date to current date\n",
        "df = df.sort_values(by = 'Date')\n",
        "\n",
        "\n",
        "\n",
        "for i in range(len(df)):  # Loop through the dataframe. iloc is used to access the data at a specific index (row)\n",
        "    if df.MA_20.iloc[i] > df.MA_50.iloc[i] and df.MA_20.iloc[i-1] < df.MA_50.iloc[i-1]:  # If the 20 day moving average is greater than the 50 day moving average and the 20 day moving average was less than the 50 day moving average on the previous day\n",
        "        buy_list.append(i)  # Add the index of the buy signal to the Buy list\n",
        "    # Answer to Task 4\n",
        "    elif df.MA_20.iloc[i] < df.MA_50.iloc[i] and df.MA_20.iloc[i-1] > df.MA_50.iloc[i-1]:  \n",
        "        sell_list.append(i)  # Add the index of the sell signal to the Sell list\n",
        "    ''' \n",
        "    TODO complete the elif statement:\n",
        "          create the logic to check if a sell flag has been triggered and add it to sell_list\n",
        "\n",
        "    Student code here:\n",
        "    elif \n",
        "\n",
        "    '''\n",
        "\n",
        "# Tests to ensure you did your elif statment correctly\n",
        "# Should print True if your code is correct\n",
        "print(sell_list == [93, 137, 294, 442, 513, 618, 688, 833, 886, 971, 1027, 1062, 1142, 1188, 1369, 1441, 1505, 1608, 1705, 1783])"
      ],
      "metadata": {
        "id": "bJ2q9CISlnmM"
      },
      "id": "bJ2q9CISlnmM",
      "execution_count": null,
      "outputs": []
    },
    {
      "cell_type": "markdown",
      "source": [
        "# Part 5\n",
        "\n",
        "This is a little counter intuitive but here we can create new columns in our dataframe called Buy and Sell and then go through the index values in our buy_list and sell_list and fill the Close price for that index (Row) into the new Buy or Sell column.\n",
        "\n",
        "So for each index in our buy and sell lists, the dataframe df should now have the price from the 'Close' column in that row in the associated 'Buy' or 'Sell' columns we just created.\n",
        "\n",
        "Since there aren't many buy and sell triggers there are going to be a LOT of NaN values in the 'Buy' and 'Sell' columns but we don't need to drop these."
      ],
      "metadata": {
        "id": "3YRtEe6iporP"
      },
      "id": "3YRtEe6iporP"
    },
    {
      "cell_type": "code",
      "source": [
        "# let us check what is in our buy and sell lists\n",
        "print('Buy List:')\n",
        "print(buy_list)\n",
        "\n",
        "print('Sell List:')\n",
        "print(sell_list)\n",
        "\n",
        "# note that there will be NaN values in the Buy and Sell columns where there is no buy or sell signal\n",
        "print('\\n\\n')\n",
        "print(df.head(20))\n",
        "\n",
        "# now we can add the buy and sell signals to the dataframe\n",
        "df['Buy'] = df['Close'].iloc[buy_list]  # Add the buy signal to the dataframe\n",
        "df['Sell'] = df['Close'].iloc[sell_list]  # Add the sell signal to the dataframe\n",
        "\n",
        "print('\\n\\n')\n",
        "print(df.head(20))"
      ],
      "metadata": {
        "id": "9qCAGsnEpi4S"
      },
      "id": "9qCAGsnEpi4S",
      "execution_count": null,
      "outputs": []
    },
    {
      "cell_type": "markdown",
      "source": [
        "# Part 6: Plotting With Matplotlib\n",
        "\n",
        "We are going to plot three graphs all on one plot. In order to do this we use the matplotlib function above. Recall that we imported matplotlib.pyplot as plt and ScalarFormatter from matplotlib.ticker:\n",
        "\n",
        "  > * import matplotlib.pyplot as plt \n",
        "    * Used to draw the plots and create the figures </br>\n",
        "  > * from matplotlib.ticker import ScalarFormatter \n",
        "    * Used to set how axis is displayed (not needed but nice)\n",
        "\n",
        "With our imports we can create a figure consisting of 3 plots, each with their own axes with the following code:\n",
        "\n",
        "> fig, axes = plt.subplots(nrows=3, ncols=1)\n",
        "\n",
        "Axes is the number of figure elements or subplots we want (in this case, three).</br>\n",
        "Fig is the entire figure that we are creating (it is one figure with three plots). </br>\n",
        "Plt is the Matplotlib Pyplot library we imported and subplots is a function we are using from Pyplot's library, which allows us to plot data points from our generated data frames(to make the graphs).</br>\n",
        "\n",
        "If we print the fig and axes outputs from the function above we will see the following:\n",
        "\n",
        "> Figure(1440x1440)</br>\n",
        "[<matplotlib.axes._subplots.AxesSubplot object at 0x7f618575e510>\n",
        " <matplotlib.axes._subplots.AxesSubplot object at 0x7f6186554550>\n",
        " <matplotlib.axes._subplots.AxesSubplot object at 0x7f61856b7ed0>]</br>\n",
        "\n",
        "We can see that fig is a 1440 x 1440 pixel figure object and there are 3 axes objects which are associated with different subplots. </br>\n",
        "So, if we wanted to plot on the first sublplot we can use axes[0]. The second plot we can use axes[1], etc.\n",
        "\n",
        "Notice that just saying df.plot is enough to plot our entire dataframe. That is pretty impressive. Matplotlib.pyplot knows to use the 'Date' index as the X-Axis and will plot the columns in the dataframe against it.\n"
      ],
      "metadata": {
        "id": "eXWjV43ltTwL"
      },
      "id": "eXWjV43ltTwL"
    },
    {
      "cell_type": "code",
      "execution_count": null,
      "id": "9ab9579c",
      "metadata": {
        "id": "9ab9579c"
      },
      "outputs": [],
      "source": [
        " # Create a figure with 3 subplots and corresponding axes\n",
        "fig, axes = plt.subplots(nrows=3, ncols=1)\n",
        "\n",
        "print(fig)\n",
        "print(axes)\n",
        "\n",
        "# set figure size (if you want different sizes)\n",
        "# fig.set_figheight(20)\n",
        "# fig.set_figwidth(20)\n",
        "\n",
        "# Plot the data on the first subplot (axes[0]) in log scale \n",
        "df.plot(ax=axes[0], logy = True, grid = True)  # if you want it in true scale just delete the logy = True)\n",
        "axes[0].set(title = \"log Scale BTC Price & EMA\", ylabel = \"United States Dollars\")  # Set the title and y-axis label\n",
        "axes[0].yaxis.set_major_formatter(ScalarFormatter(useMathText=True))  # Set the y-axis to show dollars\n",
        "\n",
        "# plot buy and sell flags against the price on the second subplot (axes[1])\n",
        "''' The Buy and Sell values were actually plotted on the first graph but since they are just points we couldn't see them'''\n",
        "''' If we plot them with markers we can see them easily'''\n",
        "df['Close'].plot(ax=axes[1], grid = True)  # Plot the data on the second subplot\n",
        "df['Buy'].plot(ax=axes[1], logy = True, grid = True, marker = '^', markersize=10, color = 'green', linestyle = 'None')  # Plot the data on the first subplot\n",
        "df['Sell'].plot(ax=axes[1], logy = True, grid = True, marker = 'v', markersize=10, color = 'red', linestyle = 'None')  # Plot the data on the first subplot\n",
        "axes[1].set(title = \"Buy and Sell Flags\", ylabel = \"United States Dollars\");  # Set the title and y-axis label\n",
        "axes[1].yaxis.set_major_formatter(ScalarFormatter(useMathText=True))  # Set the y-axis to show dollars\n",
        "\n",
        "# plot the relative strengh axis \n",
        "rsi_data = rsi(df,14);  # re-call this function since we deleted some NaN data after making the 50MA\n",
        "rsi_data.plot(ax=axes[2], grid = True);\n",
        "''' plot horizontal bars at y=70 and y=30''' \n",
        "# overbought value > 70 and oversold value < 30\n",
        "overBought = axes[2].axhline(y=70, linewidth=2, color='r', label='Overbought');\n",
        "overSold = axes[2].axhline(y=30, linewidth = 2, color='g', label= 'Oversold');\n",
        "\n",
        "axes[2].legend(handles=[overBought, overSold]);\n",
        "axes[2].set(title = \"Relative Strength Index\");\n"
      ]
    },
    {
      "cell_type": "markdown",
      "source": [
        "# Wow!\n",
        "\n",
        "Isn't that cool?! Now we can finally visualize everything we have done so far. We can see the 50 day and 20 day moving averages, the price of BTC, and the buy and sell flags that our trading algorithm suggested. We also can see the relative strength index plotted alongside. Can you see any correlations or anything intersting about the RSI and the price and buy / sell signals?\n",
        "\n",
        "\n",
        "# Part 7: Profit / Loss Calculator\n",
        "\n",
        "Now that we did all of this work, let's make a calculator that can determine whether or not we would have made any profit following this trading strategy!\n",
        "\n",
        "</br>\n",
        "\n",
        "# Task 5:\n",
        "\n",
        "1) Create a variable called holdings_in_cash and set it equal to the amount of money you want to start with (this should be a whole number). We chose $1000 to start with.\n",
        "\n",
        "2) Create a variable called holdings_in_BTC and set it to 0."
      ],
      "metadata": {
        "id": "6aUKd2xzAQEj"
      },
      "id": "6aUKd2xzAQEj"
    },
    {
      "cell_type": "code",
      "source": [
        "\n",
        "''' Insert your code here '''\n",
        "# answer\n"
      ],
      "metadata": {
        "id": "HfhfjdzlBklE"
      },
      "id": "HfhfjdzlBklE",
      "execution_count": null,
      "outputs": []
    },
    {
      "cell_type": "markdown",
      "source": [
        "# Task 6: \n",
        "\n",
        "Now we need to make two functions, one that can convert your cash holdings into BTC and the other that can convert your BTC into cash.\n",
        "\n",
        "1) cash_to_BTC(holdings_in_cash, close_price)\n",
        "  - This function converts your cash into BTC\n",
        "  - This function should take in two parameters: holdings_in_cash and close_price\n",
        "  - This function should return the amount of BTC you can buy with your cash at the current close_price passed in.\n",
        "  - *Hint: This can be done in a single line and involves division*\n",
        "\n",
        "2) BTC_to_cash(holdings_in_BTC, close_price)\n",
        "  - This function converts your BTC into Cash\n",
        "  - This function should take in two parameters: holdings_in_BTC and close_price\n",
        "  - This function should return the cash value of your current BTC holdings based on the current close_price passed in.\n",
        "  - *Hint: This can be done in a single line and involves multiplication*\n",
        "\n",
        "Note: Don't worry about rounding to two decimal places but if you want to feel free."
      ],
      "metadata": {
        "id": "x8zHxhrtCh2r"
      },
      "id": "x8zHxhrtCh2r"
    },
    {
      "cell_type": "code",
      "execution_count": null,
      "id": "e830448d",
      "metadata": {
        "id": "e830448d"
      },
      "outputs": [],
      "source": [
        "# if we put in $1000 how much would we have now?\n",
        "# we can use the buy_list and sell_list to calculate the profit / holdings\n",
        "# we will assume that when we sell, we sell all of our holdings, and when we buy we use all our holdings.\n",
        "\n",
        "''' TODO define the two functions described in Task 6 '''\n",
        "''' Student Code Here '''\n",
        "\n",
        "\n",
        "def cash_to_BTC(holdings_in_cash, close_price):\n",
        "    return none # change this line\n",
        "\n",
        "def BTC_to_cash(holdings_in_BTC, close_price):\n",
        "    return none # change this line\n",
        "\n",
        "# Test to see if you did the functions correctly. If True prints twice you did the functions correctly.\n",
        "print(cash_to_BTC(1000, df['Close'].iloc[0]) == 4.073153843020651)\n",
        "print(BTC_to_cash(4.073153843020651, df['Close'].iloc[0]) == 1000)\n"
      ]
    },
    {
      "cell_type": "markdown",
      "source": [
        "### Now that we have our functions defined we can run the calculator!"
      ],
      "metadata": {
        "id": "mvzUPUY5HXfT"
      },
      "id": "mvzUPUY5HXfT"
    },
    {
      "cell_type": "code",
      "source": [
        "''' We will start by assuming we spend all of our inital cash holdings and bought BTC on the first day in our dataframe'''\n",
        "# df['Close'].iloc[0] is grabbing the price of BTC in the first row of our dataframe)\n",
        "holdings_in_BTC = cash_to_BTC(holdings_in_cash, df['Close'].iloc[0])  # assume we bought in at the first price of BTC\n",
        "\n",
        "for i in range(len(df)):  # Loop through the df\n",
        "    if i in buy_list:  # If the index is in the buy_list\n",
        "        #convert all holdings in cash to BTC\n",
        "        holdings_in_BTC = cash_to_BTC(holdings_in_cash, df['Close'].iloc[i])\n",
        "        holdings_in_cash = 0\n",
        "    elif i in sell_list:  # If the index is in the sell_list\n",
        "        holdings_in_cash  = df['Close'].iloc[i] * holdings_in_BTC  # Add the close price to the holdings\n",
        "\n",
        "if holdings_in_cash == 0:  # If we still have holdings in BTC\n",
        "    print(\"profit: ${:.2f}\".format(holdings_in_cash - 1000))  # Print the total holdings\n",
        "else:\n",
        "    print(\"holdings in BTC: ${:.2f}\".format(holdings_in_BTC)) # Print the total holdings\n",
        "    print(\"current cash value: ${:.2f}\".format(BTC_to_cash(holdings_in_BTC, df['Close'].iloc[i]))) # Print the total holdings cash value on last day of data\n",
        "    print(\"profit: ${:.2f}\".format(BTC_to_cash(holdings_in_BTC, df['Close'].iloc[i]) - 1000))  # Print the total holdings\n",
        "\n",
        "\n",
        "''' \n",
        "\n",
        "If you did everything right you should get the following output if you started with $1000 in cash holdings\n",
        "\n",
        "holdings in BTC: $0.48\n",
        "current cash value: $17503.70\n",
        "profit: $16503.70\n",
        "\n",
        "'''"
      ],
      "metadata": {
        "id": "HwkllUkn1CTe"
      },
      "id": "HwkllUkn1CTe",
      "execution_count": null,
      "outputs": []
    },
    {
      "cell_type": "markdown",
      "source": [
        "# Congratulations! </br>\n",
        "You have made your first fully fledged progam that utilized libraries to create plots and read in CSV files! We hope you had fun with this lab."
      ],
      "metadata": {
        "id": "n3tNibF4Kpc2"
      },
      "id": "n3tNibF4Kpc2"
    }
  ],
  "metadata": {
    "kernelspec": {
      "display_name": "Python 3 (ipykernel)",
      "language": "python",
      "name": "python3"
    },
    "language_info": {
      "codemirror_mode": {
        "name": "ipython",
        "version": 3
      },
      "file_extension": ".py",
      "mimetype": "text/x-python",
      "name": "python",
      "nbconvert_exporter": "python",
      "pygments_lexer": "ipython3",
      "version": "3.7.13"
    },
    "vscode": {
      "interpreter": {
        "hash": "23361560846584cf1ea895074b40a7ea878b24065d1c129dab67edcdc8abadf4"
      }
    },
    "colab": {
      "provenance": [],
      "collapsed_sections": [],
      "include_colab_link": true
    }
  },
  "nbformat": 4,
  "nbformat_minor": 5
}